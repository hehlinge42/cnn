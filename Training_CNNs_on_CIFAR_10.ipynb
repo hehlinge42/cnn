version https://git-lfs.github.com/spec/v1
oid sha256:03325324bb80977312add6f2a04bd9e781f92ee32c172ae8e2d9bd8f903bf300
size 3235080
